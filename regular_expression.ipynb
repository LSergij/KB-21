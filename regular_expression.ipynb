{
 "cells": [
  {
   "cell_type": "code",
   "execution_count": 1,
   "metadata": {},
   "outputs": [],
   "source": [
    "#Розвязати задачку: Скільки раз зустрічається слово ІТ в реченні: \"ITs Step university IT \\n Hello IT world\"\n",
    "#Попробувати розвязати задачку: знайти номер телефона в тексті (номер може бути будь-яким): \n",
    "#\"Hello my name is Oleksii, my phone number is 5-23-38 \n",
    "import re\n",
    "#Дозволяє виконувати:\n",
    "#пошук в строці;\n",
    "#розбиття строки на підстроку;\n",
    "#заміни частини строки."
   ]
  },
  {
   "cell_type": "code",
   "execution_count": 2,
   "metadata": {},
   "outputs": [
    {
     "name": "stdout",
     "output_type": "stream",
     "text": [
      "ITs Step university IT \n",
      " Hello IT world iT\n"
     ]
    }
   ],
   "source": [
    "test = \"ITs Step university IT \\n Hello IT world iT\"\n",
    "print(test)"
   ]
  },
  {
   "cell_type": "code",
   "execution_count": 3,
   "metadata": {},
   "outputs": [
    {
     "name": "stdout",
     "output_type": "stream",
     "text": [
      "IT\n",
      "None\n"
     ]
    }
   ],
   "source": [
    "#match працює на початку строки, якщо не знайдено - None\n",
    "result = re.match(\"IT\", test)\n",
    "#Можемо записати з r, для того щоб ігнор. спец. символи типу \\n, приклад result = re.match(r\"IT\", test)\n",
    "print(result.group(0))\n",
    "print(re.match(\"Step\", test))"
   ]
  },
  {
   "cell_type": "code",
   "execution_count": 4,
   "metadata": {},
   "outputs": [
    {
     "name": "stdout",
     "output_type": "stream",
     "text": [
      "IT\n"
     ]
    }
   ],
   "source": [
    "#search вертає тільки перше знайдене значення\n",
    "result = re.search(\"IT\", test)\n",
    "print (result.group(0))"
   ]
  },
  {
   "cell_type": "code",
   "execution_count": 5,
   "metadata": {},
   "outputs": [
    {
     "name": "stdout",
     "output_type": "stream",
     "text": [
      "['IT', 'IT', 'IT']\n"
     ]
    }
   ],
   "source": [
    "#findall вертає список всіх знайдених співпадань\n",
    "print(re.findall(\"IT\", test))"
   ]
  },
  {
   "cell_type": "code",
   "execution_count": 6,
   "metadata": {},
   "outputs": [
    {
     "name": "stdout",
     "output_type": "stream",
     "text": [
      "['', 's Step university ', ' \\n Hello ', ' world iT']\n",
      "['', 's Step university IT \\n Hello IT world iT']\n"
     ]
    }
   ],
   "source": [
    "#split розділяє строку по заданому шаблону\n",
    "print(re.split(\"IT\", test))\n",
    "print(re.split(\"IT\", test, maxsplit = 1))"
   ]
  },
  {
   "cell_type": "code",
   "execution_count": 7,
   "metadata": {},
   "outputs": [
    {
     "name": "stdout",
     "output_type": "stream",
     "text": [
      "ITs Krok university IT \n",
      " Hello IT world iT\n"
     ]
    }
   ],
   "source": [
    "#sub Шукає патерн в строці і заміняє його на вказане значення\n",
    "print(re.sub(\"Step\", \"Krok\", test))"
   ]
  },
  {
   "cell_type": "code",
   "execution_count": 8,
   "metadata": {},
   "outputs": [
    {
     "name": "stdout",
     "output_type": "stream",
     "text": [
      "['Ste']\n"
     ]
    }
   ],
   "source": [
    "#. 1 будь який символ\n",
    "print(re.findall(\"St.\", test))\n"
   ]
  },
  {
   "cell_type": "code",
   "execution_count": 9,
   "metadata": {},
   "outputs": [
    {
     "name": "stdout",
     "output_type": "stream",
     "text": [
      "['I', 'T', 's', 'S', 't', 'e', 'p', 'u', 'n', 'i', 'v', 'e', 'r', 's', 'i', 't', 'y', 'I', 'T', 'H', 'e', 'l', 'l', 'o', 'I', 'T', 'w', 'o', 'r', 'l', 'd', 'i', 'T']\n"
     ]
    }
   ],
   "source": [
    "#\\w Будь-яка цифра/буква\n",
    "print(re.findall(\"\\w\", test))"
   ]
  },
  {
   "cell_type": "code",
   "execution_count": 10,
   "metadata": {},
   "outputs": [
    {
     "name": "stdout",
     "output_type": "stream",
     "text": [
      "['ITs', 'Step', 'university', 'IT', 'Hello', 'IT', 'world', 'iT']\n",
      "['ITs', '', 'Step', '', 'university', '', 'IT', '', '', '', 'Hello', '', 'IT', '', 'world', '', 'iT', '']\n"
     ]
    }
   ],
   "source": [
    "# * - 0 або більше сходжень зліва, + - 1 або більше сходжень зліва\n",
    "print(re.findall(\"\\w+\", test))\n",
    "print(re.findall(\"\\w*\", test))"
   ]
  },
  {
   "cell_type": "code",
   "execution_count": 11,
   "metadata": {},
   "outputs": [
    {
     "name": "stdout",
     "output_type": "stream",
     "text": [
      "['ITs']\n",
      "['iT']\n"
     ]
    }
   ],
   "source": [
    "#^ Початок строки, $ кінець строки\n",
    "print(re.findall(\"^\\w+\", test))\n",
    "print(re.findall(\"\\w+$\", test))"
   ]
  },
  {
   "cell_type": "code",
   "execution_count": 12,
   "metadata": {},
   "outputs": [
    {
     "name": "stdout",
     "output_type": "stream",
     "text": [
      "[' ', ' ', ' ', ' ', '\\n', ' ', ' ', ' ', ' ']\n"
     ]
    }
   ],
   "source": [
    "#\\s Любий пробільний символ => задачка: вернути два перших символи з кожного слова\n",
    "print(re.findall(\"\\s\", test))\n",
    "#print(re.findall(\"\\w\\w\", test))"
   ]
  },
  {
   "cell_type": "code",
   "execution_count": 13,
   "metadata": {},
   "outputs": [
    {
     "name": "stdout",
     "output_type": "stream",
     "text": [
      "['e', 'e', 'e', 'd']\n",
      "[' university', ' IT', ' IT', ' iT']\n"
     ]
    }
   ],
   "source": [
    "# [..] один із символів\n",
    "#print(re.findall(\"[a-c]\", test))\n",
    "print(re.findall(\"[a-f]\", test))\n",
    "#Вернути всі слова, які починаються на голосну [^abcdef]\n",
    "print(re.findall(\" [aeiouAEIOU]\\w+\", test))"
   ]
  },
  {
   "cell_type": "code",
   "execution_count": 14,
   "metadata": {},
   "outputs": [
    {
     "name": "stdout",
     "output_type": "stream",
     "text": [
      "['ITs']\n",
      "['iT']\n"
     ]
    }
   ],
   "source": [
    "# ^ Початок, $ кінець строки\n",
    "# Знайти перше і останнє слово, яке починається на голосну букву\n",
    "print(re.findall(\"^[aeiouAEIOU]\\w+\", test))\n",
    "print(re.findall(\"[aeiouAEIOU]\\w+$\", test))"
   ]
  },
  {
   "cell_type": "code",
   "execution_count": 15,
   "metadata": {},
   "outputs": [
    {
     "name": "stdout",
     "output_type": "stream",
     "text": [
      "['@gmail.com', '@mail.ru']\n",
      "['com', 'ru']\n"
     ]
    }
   ],
   "source": [
    "#Вернути домент е-мейл адреси\n",
    "mail = \"malito@gmail.com, oleksii@mail.ru\"\n",
    "print(re.findall(\"@\\w+.\\w+\", mail))\n",
    "print(re.findall(\"@\\w+.(\\w+)\", mail))"
   ]
  },
  {
   "cell_type": "code",
   "execution_count": 16,
   "metadata": {},
   "outputs": [
    {
     "name": "stdout",
     "output_type": "stream",
     "text": [
      "['10', '05', '2018']\n",
      "['10-05-2018']\n"
     ]
    }
   ],
   "source": [
    "#{n} - кількість входжень, \\d - цифри\n",
    "# задачка: витягнути дату зі строки\n",
    "date = \"Today is 10-05-2018, the sun shine brightly\"\n",
    "print(re.findall(\"\\d+\", date))\n",
    "print(re.findall(\"\\d{2}-\\d{2}-\\d{4}\", date))"
   ]
  },
  {
   "cell_type": "code",
   "execution_count": 17,
   "metadata": {},
   "outputs": [
    {
     "ename": "NameError",
     "evalue": "name 'capital' is not defined",
     "output_type": "error",
     "traceback": [
      "\u001b[1;31m---------------------------------------------------------------------------\u001b[0m",
      "\u001b[1;31mNameError\u001b[0m                                 Traceback (most recent call last)",
      "\u001b[1;32m<ipython-input-17-26a3a3004aff>\u001b[0m in \u001b[0;36m<module>\u001b[1;34m()\u001b[0m\n\u001b[0;32m      1\u001b[0m \u001b[1;31m# Знайти всі великі букви в тексті\u001b[0m\u001b[1;33m\u001b[0m\u001b[1;33m\u001b[0m\u001b[0m\n\u001b[0;32m      2\u001b[0m \u001b[1;31m#re.findall(\"[A-Z]\", capital)\u001b[0m\u001b[1;33m\u001b[0m\u001b[1;33m\u001b[0m\u001b[0m\n\u001b[1;32m----> 3\u001b[1;33m \u001b[0mre\u001b[0m\u001b[1;33m.\u001b[0m\u001b[0msub\u001b[0m\u001b[1;33m(\u001b[0m\u001b[1;34m\"[^A-Z]\"\u001b[0m\u001b[1;33m,\u001b[0m \u001b[1;34m\"\"\u001b[0m\u001b[1;33m,\u001b[0m \u001b[0mcapital\u001b[0m\u001b[1;33m)\u001b[0m\u001b[1;33m\u001b[0m\u001b[0m\n\u001b[0m",
      "\u001b[1;31mNameError\u001b[0m: name 'capital' is not defined"
     ]
    }
   ],
   "source": [
    "# Знайти всі великі букви в тексті\n",
    "#re.findall(\"[A-Z]\", capital)\n",
    "re.sub(\"[^A-Z]\", \"\", capital)"
   ]
  },
  {
   "cell_type": "code",
   "execution_count": null,
   "metadata": {},
   "outputs": [],
   "source": [
    "http://play.inginf.units.it"
   ]
  },
  {
   "cell_type": "code",
   "execution_count": null,
   "metadata": {},
   "outputs": [],
   "source": []
  }
 ],
 "metadata": {
  "kernelspec": {
   "display_name": "Python 3",
   "language": "python",
   "name": "python3"
  },
  "language_info": {
   "codemirror_mode": {
    "name": "ipython",
    "version": 3
   },
   "file_extension": ".py",
   "mimetype": "text/x-python",
   "name": "python",
   "nbconvert_exporter": "python",
   "pygments_lexer": "ipython3",
   "version": "3.6.4"
  }
 },
 "nbformat": 4,
 "nbformat_minor": 2
}
